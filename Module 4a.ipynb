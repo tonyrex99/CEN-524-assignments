{
 "cells": [
  {
   "cell_type": "markdown",
   "id": "09ae8afd-1798-42ab-9f77-ec8cfb782ca5",
   "metadata": {},
   "source": [
    "### Classwork\n",
    "### Adenuga Ebunifeoluwa Ayomikun 19cj025761"
   ]
  },
  {
   "cell_type": "code",
   "execution_count": 38,
   "id": "f3a2120e-ab46-46d1-b33b-bd09102b13c9",
   "metadata": {},
   "outputs": [
    {
     "name": "stdout",
     "output_type": "stream",
     "text": [
      "output of  1.2  is  0.22734376052507407\n",
      "output of  0.9  is  0.16842040015527598\n",
      "output of  0.75  is  0.14496078180634608\n",
      "output of  0.8  is  0.15239308002108304\n",
      "output of  1.5  is  0.3068819774922209\n"
     ]
    }
   ],
   "source": [
    "#Softmax\n",
    "import math\n",
    "weightedsum = [1.2,  0.9,  0.75,  0.8,  1.5]\n",
    "for i in weightedsum:\n",
    "    output = (math.exp(i))/(math.exp(weightedsum[0]) + math.exp(weightedsum[1]) + math.exp(weightedsum[2]) + math.exp(weightedsum[3]) + math.exp(weightedsum[4]))\n",
    "    print(\"output of \",(i),\" is \",(output))"
   ]
  },
  {
   "cell_type": "code",
   "execution_count": 27,
   "id": "4bb16fdc-c8f4-4bc1-90b6-42252ed2d5db",
   "metadata": {},
   "outputs": [
    {
     "name": "stdout",
     "output_type": "stream",
     "text": [
      "output of  1.2  is  1.2\n",
      "output of  0.9  is  0.9\n",
      "output of  0.75  is  0.75\n",
      "output of  0.8  is  0.8\n",
      "output of  1.5  is  1.5\n"
     ]
    }
   ],
   "source": [
    "#Relu\n",
    "for i in weightedsum:\n",
    "    relu_output = (max(0, i)) \n",
    "    print(\"output of \",(i),\" is \",relu_output)"
   ]
  },
  {
   "cell_type": "code",
   "execution_count": 28,
   "id": "f9cde43a-aac5-4f9b-80f0-4da86a916d97",
   "metadata": {},
   "outputs": [
    {
     "name": "stdout",
     "output_type": "stream",
     "text": [
      "output of 1.2  is  0.5370495669980352\n",
      "output of 0.9  is  0.4218990052500079\n",
      "output of 0.75  is  0.35835739835078595\n",
      "output of 0.8  is  0.3799489622552249\n",
      "output of 1.5  is  0.6351489523872873\n"
     ]
    }
   ],
   "source": [
    "#Bipolar Sigmoid\n",
    "for i in weightedsum:\n",
    "  bipolar_sigmoid_output = ((1 - math.exp(-i)) / (1 + math.exp(-i)))   \n",
    "  print(\"output of\",(i),\" is \",bipolar_sigmoid_output)"
   ]
  },
  {
   "cell_type": "code",
   "execution_count": 2,
   "id": "3fc6ee77-6c41-4291-84fb-97c172f7f61f",
   "metadata": {},
   "outputs": [
    {
     "name": "stdout",
     "output_type": "stream",
     "text": [
      "Accuracy: 0.7407407407407407\n",
      "Perceptron Confusion Matrix:\n",
      " [[13  0  0]\n",
      " [ 6  0  1]\n",
      " [ 0  0  7]]\n"
     ]
    },
    {
     "name": "stderr",
     "output_type": "stream",
     "text": [
      "C:\\Users\\DELL\\AppData\\Local\\Packages\\PythonSoftwareFoundation.Python.3.9_qbz5n2kfra8p0\\LocalCache\\local-packages\\Python39\\site-packages\\sklearn\\utils\\validation.py:1183: DataConversionWarning: A column-vector y was passed when a 1d array was expected. Please change the shape of y to (n_samples, ), for example using ravel().\n",
      "  y = column_or_1d(y, warn=True)\n"
     ]
    }
   ],
   "source": [
    "# Import required libraries\n",
    "from sklearn.datasets import load_iris\n",
    "from sklearn.linear_model import Perceptron\n",
    "from sklearn.model_selection import train_test_split\n",
    "from sklearn.metrics import accuracy_score, confusion_matrix\n",
    "import pandas as pd\n",
    "\n",
    "# Load the Iris dataset\n",
    "iris = load_iris()\n",
    "\n",
    "# Convert data and target into a data frame.\n",
    "# Extract the First 100 Features\n",
    "X = pd.DataFrame(data=iris.data[:135, :], columns=iris.feature_names)\n",
    "y = pd.DataFrame(data=iris.target[:135], columns=['irisType'])\n",
    "\n",
    "# Split the dataset into training and testing sets\n",
    "X_train, X_test, y_train, y_test = train_test_split(X, y, test_size=0.2, random_state=42)\n",
    "\n",
    "# Create a Perceptron classifier\n",
    "mdlPercept = Perceptron()\n",
    "\n",
    "# Train the classifier\n",
    "mdlPercept.fit(X_train, y_train)\n",
    "\n",
    "# Make predictions on the test set\n",
    "y_pred = mdlPercept.predict(X_test)\n",
    "\n",
    "# Calculate accuracy of the classifier\n",
    "accuracy = accuracy_score(y_test, y_pred)\n",
    "print(\"Accuracy:\", accuracy)\n",
    "\n",
    "# Generate the Confusion Matrix\n",
    "print(\"Perceptron Confusion Matrix:\\n\", confusion_matrix(y_test, y_pred))"
   ]
  },
  {
   "cell_type": "code",
   "execution_count": 6,
   "id": "3a77985b-4dfc-4852-bd0e-7c7108776812",
   "metadata": {},
   "outputs": [
    {
     "name": "stderr",
     "output_type": "stream",
     "text": [
      "C:\\Users\\DELL\\AppData\\Local\\Packages\\PythonSoftwareFoundation.Python.3.9_qbz5n2kfra8p0\\LocalCache\\local-packages\\Python39\\site-packages\\keras\\src\\layers\\core\\dense.py:73: UserWarning: Do not pass an `input_shape`/`input_dim` argument to a layer. When using Sequential models, prefer using an `Input(shape)` object as the first layer in the model instead.\n",
      "  super().__init__(activity_regularizer=activity_regularizer, **kwargs)\n"
     ]
    },
    {
     "name": "stdout",
     "output_type": "stream",
     "text": [
      "Accuracy: 0.9694444537162781\n",
      "\u001b[1m12/12\u001b[0m \u001b[32m━━━━━━━━━━━━━━━━━━━━\u001b[0m\u001b[37m\u001b[0m \u001b[1m0s\u001b[0m 3ms/step \n",
      "Perceptron Confusion Matrix:\n",
      " [[32  0  1  0  0  0  0  0  0  0]\n",
      " [ 0 28  0  0  0  0  0  0  0  0]\n",
      " [ 0  0 32  1  0  0  0  0  0  0]\n",
      " [ 0  0  0 33  0  1  0  0  0  0]\n",
      " [ 0  1  0  0 45  0  0  0  0  0]\n",
      " [ 0  0  0  0  0 46  1  0  0  0]\n",
      " [ 0  0  0  0  0  1 34  0  0  0]\n",
      " [ 0  0  0  0  0  0  0 33  0  1]\n",
      " [ 0  0  0  0  0  1  0  0 29  0]\n",
      " [ 0  0  0  1  0  0  0  0  2 37]]\n"
     ]
    }
   ],
   "source": [
    "import tensorflow as tf\n",
    "from sklearn.datasets import load_digits\n",
    "from sklearn.model_selection import train_test_split\n",
    "from sklearn.metrics import accuracy_score, confusion_matrix\n",
    "import pandas as pd\n",
    "\n",
    "# Load the Digits dataset\n",
    "digits = load_digits()\n",
    "\n",
    "# Convert data and target into a data frame.\n",
    "X = pd.DataFrame(data=digits.data)\n",
    "y = pd.DataFrame(data=digits.target, columns=['digit'])\n",
    "\n",
    "# Split the dataset into training and testing sets\n",
    "X_train, X_test, y_train, y_test = train_test_split(X, y, test_size=0.2, random_state=42)\n",
    "\n",
    "# Convert pandas DataFrames to numpy arrays\n",
    "X_train = X_train.values\n",
    "X_test = X_test.values\n",
    "y_train = y_train.values\n",
    "y_test = y_test.values\n",
    "\n",
    "# Define a simple perceptron model\n",
    "model = tf.keras.Sequential([\n",
    "    tf.keras.layers.Dense(10, activation='softmax', input_shape=(X_train.shape[1],))\n",
    "])\n",
    "\n",
    "# Compile the model\n",
    "model.compile(optimizer='adam', loss='sparse_categorical_crossentropy', metrics=['accuracy'])\n",
    "\n",
    "# Train the model\n",
    "model.fit(X_train, y_train, epochs=100, verbose=0)\n",
    "\n",
    "# Evaluate the model on the test set\n",
    "loss, accuracy = model.evaluate(X_test, y_test, verbose=0)\n",
    "print(\"Accuracy:\", accuracy)\n",
    "\n",
    "# Make predictions on the test set\n",
    "y_pred_prob = model.predict(X_test)\n",
    "y_pred = y_pred_prob.argmax(axis=1)\n",
    "\n",
    "# Generate the Confusion Matrix\n",
    "conf_matrix = confusion_matrix(y_test, y_pred)\n",
    "print(\"Perceptron Confusion Matrix:\\n\", conf_matrix)\n"
   ]
  },
  {
   "cell_type": "code",
   "execution_count": null,
   "id": "a346a6be-963b-4c53-bfcc-9bbdec1161b9",
   "metadata": {},
   "outputs": [],
   "source": []
  }
 ],
 "metadata": {
  "kernelspec": {
   "display_name": "Python 3 (ipykernel)",
   "language": "python",
   "name": "python3"
  },
  "language_info": {
   "codemirror_mode": {
    "name": "ipython",
    "version": 3
   },
   "file_extension": ".py",
   "mimetype": "text/x-python",
   "name": "python",
   "nbconvert_exporter": "python",
   "pygments_lexer": "ipython3",
   "version": "3.9.13"
  }
 },
 "nbformat": 4,
 "nbformat_minor": 5
}
